{
 "cells": [
  {
   "cell_type": "markdown",
   "metadata": {},
   "source": [
    "# Analyse von Veröffentlichungen mit KI Bezug von CSRankings.org"
   ]
  },
  {
   "cell_type": "markdown",
   "metadata": {},
   "source": [
    "## Rohdaten\n",
    "\n",
    "Die Datensätze wurden mit dem Code unter https://github.com/emeryberger/CSrankings erzeugt.\n",
    "\n",
    "Erstellungsdatum: 06.01.2019"
   ]
  },
  {
   "cell_type": "code",
   "execution_count": 1,
   "metadata": {},
   "outputs": [],
   "source": [
    "import pandas as pd\n",
    "\n",
    "affiliations = pd.read_csv(\"./data/faculty-affiliations.csv\")\n",
    "universities = pd.read_csv(\"./data/country-info.csv\")\n",
    "articles = pd.read_json(\"./data/articles.json\")"
   ]
  },
  {
   "cell_type": "markdown",
   "metadata": {},
   "source": [
    "## Hochschulen\n",
    "Filtern Europäischer Hochschulen (durch Attribut in Datensatz)"
   ]
  },
  {
   "cell_type": "code",
   "execution_count": 0,
   "metadata": {},
   "outputs": [],
   "source": [
    "european_universities = universities[universities[\"region\"] == \"europe\"]"
   ]
  },
  {
   "cell_type": "markdown",
   "metadata": {},
   "source": [
    "Ausgabe der europäischen Universitäten zur manuellen Filterung hessischer/deutscher Einrichtungen"
   ]
  },
  {
   "cell_type": "code",
   "execution_count": 0,
   "metadata": {},
   "outputs": [],
   "source": [
    "pd.options.display.max_rows = -1 # do not abbreviate the list\n",
    "european_universities"
   ]
  },
  {
   "cell_type": "markdown",
   "metadata": {},
   "source": [
    "Manuelle Identifizierung Deutscher Hochschulen und Ausgabe zur Filterung Hessischer Hochschulen"
   ]
  },
  {
   "cell_type": "code",
   "execution_count": 0,
   "metadata": {},
   "outputs": [],
   "source": [
    "german_universities = european_universities.loc[[13, 72, 78, 94, 95, 105, 106, 107, 109, 111, 142, 147, 159, 184, 199, 200]]\n",
    "german_universities"
   ]
  },
  {
   "cell_type": "markdown",
   "metadata": {},
   "source": [
    "Manuelle Identifizierung Hessischer Hochschulen"
   ]
  },
  {
   "cell_type": "code",
   "execution_count": 0,
   "metadata": {},
   "outputs": [],
   "source": [
    "hessian_universities = german_universities.loc[[107,]]"
   ]
  },
  {
   "cell_type": "markdown",
   "metadata": {},
   "source": [
    "## Artikel\n",
    "Aussortieren doppelter Einträge (nach Titel)"
   ]
  },
  {
   "cell_type": "code",
   "execution_count": 0,
   "metadata": {},
   "outputs": [],
   "source": [
    "before = len(articles)\n",
    "articles = articles.drop_duplicates(subset=\"title\")\n",
    "after = len(articles)\n",
    "\n",
    "\"{} Duplikate entfernt\".format(before - after)"
   ]
  },
  {
   "cell_type": "markdown",
   "metadata": {},
   "source": [
    "Auswählen der Artikel aus \"KI\"-Konferenzen"
   ]
  },
  {
   "cell_type": "code",
   "execution_count": 0,
   "metadata": {},
   "outputs": [],
   "source": [
    "ai_articles = articles[articles.area.isin([\"aaai\", \"ijcai\", \"cvpr\", \"eccv\", \"iccv\", \"icml\", \"kdd\", \"nips\", \"acl\", \"emnlp\", \"naacl\", \"sigr\", \"www\"])]\n",
    "\"KI-Artikel insgesamt: {}\".format(len(ai_articles))"
   ]
  },
  {
   "cell_type": "markdown",
   "metadata": {},
   "source": [
    "Matching der KI-Artikel mit den deutschen Hochschulen"
   ]
  },
  {
   "cell_type": "code",
   "execution_count": 0,
   "metadata": {},
   "outputs": [],
   "source": [
    "german_ai_articles = ai_articles.join(german_universities.set_index(\"institution\"), on=\"institution\", how=\"inner\")"
   ]
  },
  {
   "cell_type": "code",
   "execution_count": 0,
   "metadata": {},
   "outputs": [],
   "source": [
    "\"KI-Artikel von deutschen Universitäten: {}\".format(len(german_ai_articles))"
   ]
  },
  {
   "cell_type": "markdown",
   "metadata": {},
   "source": [
    "Einfügen einer Spalte `from_hessen` in die Tabelle der Deutschen KI-Artikel um Artikel Hessischer Hochschulen zu kennzeichen"
   ]
  },
  {
   "cell_type": "code",
   "execution_count": 0,
   "metadata": {},
   "outputs": [],
   "source": [
    "german_ai_articles[\"from_hessen\"] = german_ai_articles[\"institution\"].isin(hessian_universities[\"institution\"])\n",
    "\"KI-Artikel hessicher Universitäten: {}\".format(len(german_ai_articles[german_ai_articles[\"from_hessen\"]==True]))"
   ]
  },
  {
   "cell_type": "markdown",
   "metadata": {},
   "source": [
    "### Abrufen der Anzahl an Zitierungen von Google Scholar"
   ]
  },
  {
   "cell_type": "code",
   "execution_count": 0,
   "metadata": {},
   "outputs": [],
   "source": [
    "from scholar.scholar import ScholarQuerier, SearchScholarQuery\n",
    "\n",
    "def fetch_citation_count(publication):\n",
    "    querier = ScholarQuerier()\n",
    "    query = SearchScholarQuery()\n",
    "    \n",
    "    author = publication[\"name\"]\n",
    "    title = publication[\"title\"]\n",
    "    \n",
    "    print(\"Autor: {}, Titel: {}\".format(author, title))\n",
    "    \n",
    "    query.set_author(author)\n",
    "    query.set_words(title)\n",
    "    query.set_scope(True)\n",
    "    query.set_include_patents(False)\n",
    "    query.set_num_page_results(1)\n",
    "    \n",
    "    querier.send_query(query)\n",
    "    \n",
    "    articles = querier.articles\n",
    "    print(articles)\n",
    "    \n",
    "\n",
    "german_ai_articles.apply(fetch_citation_count, axis=1)"
   ]
  },
  {
   "cell_type": "markdown",
   "metadata": {},
   "source": [
    "## Visualiserung/Export"
   ]
  },
  {
   "cell_type": "code",
   "execution_count": 3,
   "metadata": {},
   "outputs": [
    {
     "ename": "NameError",
     "evalue": "name 'german_ai_articles' is not defined",
     "output_type": "error",
     "traceback": [
      "\u001b[1;31m---------------------------------------------------------------------------\u001b[0m",
      "\u001b[1;31mNameError\u001b[0m                                 Traceback (most recent call last)",
      "\u001b[1;32m<ipython-input-3-e8de45bc7dcb>\u001b[0m in \u001b[0;36m<module>\u001b[1;34m\u001b[0m\n\u001b[1;32m----> 1\u001b[1;33m \u001b[0mgerman_ai_articles\u001b[0m\u001b[1;33m\u001b[0m\u001b[1;33m\u001b[0m\u001b[0m\n\u001b[0m",
      "\u001b[1;31mNameError\u001b[0m: name 'german_ai_articles' is not defined"
     ]
    }
   ],
   "source": [
    "german_ai_articles"
   ]
  },
  {
   "cell_type": "markdown",
   "metadata": {},
   "source": [
    "Export der Liste deutsche KI-Artikel nach `publications.csv`"
   ]
  },
  {
   "cell_type": "code",
   "execution_count": 5,
   "metadata": {},
   "outputs": [],
   "source": [
    "try:\n",
    "    german_ai_articles.to_csv(\"publications.csv\")\n",
    "except NameError:\n",
    "    german_ai_articles = pd.read_csv(\"publications.csv\")"
   ]
  },
  {
   "cell_type": "markdown",
   "metadata": {},
   "source": [
    "Säulindiagramm der Anzahl Deutscher und Hessischer Beiträge zu \"KI-Konferenzen\""
   ]
  },
  {
   "cell_type": "code",
   "execution_count": 11,
   "metadata": {},
   "outputs": [],
   "source": [
    "import plotly.offline as py\n",
    "import plotly.graph_objs as go\n",
    "\n",
    "vc = german_ai_articles[german_ai_articles[\"from_hessen\"]==False][\"year\"].value_counts()\n",
    "vc_hessen = german_ai_articles[german_ai_articles[\"from_hessen\"]==True][\"year\"].value_counts()\n",
    "\n",
    "data = [\n",
    "    go.Bar(\n",
    "        x=vc.index.values,\n",
    "        y=vc.values,\n",
    "        name = \"Deutschland Rest\"\n",
    "    ),\n",
    "    go.Bar(\n",
    "        x=vc_hessen.index.values,\n",
    "        y=vc_hessen.values,\n",
    "        name=\"Hessen\"\n",
    "    )\n",
    "]\n",
    "\n",
    "layout = go.Layout(\n",
    "    barmode='stack',\n",
    "    title='Beiträge zu KI-Konferenzen Deutscher Hochschulen nach Jahren'\n",
    ")\n",
    "\n",
    "fig = go.Figure(data=data, layout=layout)\n",
    "chart = py.plot(fig, filename=\"publications.html\")\n",
    "ex = pd.DataFrame()\n",
    "ex['hessen'] = vc_hessen\n",
    "ex['de_rest'] = vc\n",
    "ex = ex.sort_index()\n",
    "ex.to_csv(\"anzahl_an_ki_konferenzbeiträgen.csv\")"
   ]
  },
  {
   "cell_type": "markdown",
   "metadata": {},
   "source": [
    "![chart](publications.png)"
   ]
  }
 ],
 "metadata": {
  "kernelspec": {
   "display_name": "Python 3",
   "language": "python",
   "name": "python3"
  },
  "language_info": {
   "codemirror_mode": {
    "name": "ipython",
    "version": 3
   },
   "file_extension": ".py",
   "mimetype": "text/x-python",
   "name": "python",
   "nbconvert_exporter": "python",
   "pygments_lexer": "ipython3",
   "version": "3.7.3"
  }
 },
 "nbformat": 4,
 "nbformat_minor": 2
}
